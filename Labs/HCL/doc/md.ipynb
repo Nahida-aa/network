{
 "cells": [
  {
   "cell_type": "code",
   "execution_count": null,
   "metadata": {},
   "outputs": [],
   "source": [
    "%pip install python-docx"
   ]
  },
  {
   "cell_type": "code",
   "execution_count": 7,
   "metadata": {},
   "outputs": [
    {
     "name": "stderr",
     "output_type": "stream",
     "text": [
      "[WARNING] Could not fetch resource /images/646e81c681b36b986ac641e8da898a162ad49bace68bde1d20bd8ed76bd06be6.png: replacing image with description\n"
     ]
    }
   ],
   "source": [
    "!pandoc run.md -o run.docx --extract-media=images --highlight-style=pygments"
   ]
  },
  {
   "cell_type": "markdown",
   "metadata": {},
   "source": [
    "```sh\n",
    "pandoc run.md -o run.docx --extract-media=images --highlight-style=pygments\n",
    "```"
   ]
  },
  {
   "cell_type": "code",
   "execution_count": 6,
   "metadata": {},
   "outputs": [],
   "source": [
    "import os\n",
    "from markdown_it import MarkdownIt\n",
    "from docx import Document\n",
    "from docx.shared import Inches\n",
    "\n",
    "def convert_md_to_docx(md_file_path, docx_file_path):\n",
    "    doc = Document()\n",
    "\n",
    "    with open(md_file_path, 'r', encoding='utf-8') as md_file:\n",
    "        content = md_file.read()\n",
    "\n",
    "    md = MarkdownIt()\n",
    "    tokens = md.parse(content)\n",
    "    \n",
    "    for token in tokens:\n",
    "        if token.type == 'heading_open':\n",
    "            level = int(token.tag[1])  # Extract heading level\n",
    "            continue  # Skip the opening tag\n",
    "        elif token.type == 'inline':\n",
    "            doc.add_paragraph(token.content)\n",
    "        elif token.type == 'fence' and token.info == 'yaml':\n",
    "            # Handle YAML code blocks\n",
    "            doc.add_paragraph(token.content, style='Code')  # Optional styling\n",
    "        elif token.type == 'image':\n",
    "            img_src = token.attrGet('src')\n",
    "            img_path = os.path.join('images', img_src)\n",
    "            if os.path.exists(img_path):\n",
    "                doc.add_picture(img_path, width=Inches(3))\n",
    "\n",
    "    doc.save(docx_file_path)\n",
    "\n",
    "# 使用示例\n",
    "convert_md_to_docx('run.md', 'run.docx')\n"
   ]
  }
 ],
 "metadata": {
  "kernelspec": {
   "display_name": "base",
   "language": "python",
   "name": "python3"
  },
  "language_info": {
   "codemirror_mode": {
    "name": "ipython",
    "version": 3
   },
   "file_extension": ".py",
   "mimetype": "text/x-python",
   "name": "python",
   "nbconvert_exporter": "python",
   "pygments_lexer": "ipython3",
   "version": "3.12.4"
  }
 },
 "nbformat": 4,
 "nbformat_minor": 2
}
